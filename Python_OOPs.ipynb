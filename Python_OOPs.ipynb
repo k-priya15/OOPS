{
  "nbformat": 4,
  "nbformat_minor": 0,
  "metadata": {
    "colab": {
      "provenance": []
    },
    "kernelspec": {
      "name": "python3",
      "display_name": "Python 3"
    },
    "language_info": {
      "name": "python"
    }
  },
  "cells": [
    {
      "cell_type": "markdown",
      "source": [
        "#OOPs Assignment"
      ],
      "metadata": {
        "id": "urts2IP6SAJ-"
      }
    },
    {
      "cell_type": "markdown",
      "source": [
        "##Python OOPs Questions"
      ],
      "metadata": {
        "id": "hm3dLKpUm-sO"
      }
    },
    {
      "cell_type": "markdown",
      "source": [
        "1. What is Object-Oriented Programming (OOP)?\n",
        "- The programming paradigm known as object-oriented programming (OOP) centers software design around objects as opposed to logic and functions.  Real-world entities are represented by objects, which have methods (functions) and attributes (data) that specify how they behave.  OOP is commonly utilized in contemporary programming languages like Python, Java, C++, and JavaScript because it improves code reusability, modularity, scalability, and maintainability.\n",
        "\n",
        "Core Principles of OOP are as follows:-\n",
        "\n",
        "1) Encapsulation -\n",
        "Encapsulation is the concept of hiding the internal details of an object and only exposing necessary parts through controlled interfaces.\n",
        "It is achieved using private and public access modifiers.\n",
        "Example: In Python, private attributes are defined using an underscore _ or __.\n",
        "\n",
        "2) Abstraction - The goal of abstraction is to conceal complexity and reveal only an object's most important characteristics.\n",
        "For instance, intricate internal mechanics (engine, fuel system) are concealed by an automobile's steering and accelerator controls.\n",
        "Abstract classes and interfaces are used in its implementation.\n",
        "\n",
        "3) Inheritance - A class (child) can inherit traits and behaviors from another class (parent) through inheritance.\n",
        " It encourages code reuse and prevents code duplication.\n",
        "\n",
        " 4) Polymorphism - Objects of different classes can be regarded as belonging to the same superclass thanks to polymorphism.\n",
        "It makes method overriding (redefining inherited methods) and overloading (same function, different parameters) possible."
      ],
      "metadata": {
        "id": "TW0nZVVmSVCX"
      }
    },
    {
      "cell_type": "markdown",
      "source": [
        "\n",
        "\n",
        "---\n",
        "\n"
      ],
      "metadata": {
        "id": "f0Hj71OpsjjQ"
      }
    },
    {
      "cell_type": "markdown",
      "source": [
        "2.  What is a class in OOP?\n",
        "\n",
        "- In Object-Oriented Programming (OOP), a class is a blueprint or template for creating objects. It defines the attributes (data members) and methods (functions) that the objects of that class will have.\n",
        "\n",
        "Important Elements of an Object Class Blueprint are:\n",
        "\n",
        "1) A class specifies the structure that objects will adhere to rather than storing data itself.\n",
        "\n",
        "2) Encapsulation of Methods and Data:\n",
        "\n",
        "--- It combines functions (methods) and variables (attributes).\n",
        "\n",
        "--- Encourages  Reusability: The same class can be used to construct multiple objects (instances) once it has been declared."
      ],
      "metadata": {
        "id": "N-UTQp96YBP7"
      }
    },
    {
      "cell_type": "markdown",
      "source": [
        "\n",
        "\n",
        "---\n",
        "\n"
      ],
      "metadata": {
        "id": "h6at4EsGso9U"
      }
    },
    {
      "cell_type": "markdown",
      "source": [
        "3. What is an object in OOP?\n",
        "\n",
        "- An object is an instance of a class in object-oriented programming, or OOP.\n",
        "\n",
        " It is an actual entity that possesses are:\n",
        "\n",
        "1) An object's attributes (data/properties) are its qualities.\n",
        "\n",
        "2) Methods (Functions/Behaviors): Specify what the object is capable of doing.\n",
        "\n",
        "\n",
        "Key Features of an Object are: -\n",
        "\n",
        "✅ Instance of a Class: Objects are created based on a class blueprint.\n",
        "\n",
        "✅ Stores Data: Each object has its own copy of data (attributes).\n",
        "\n",
        "✅ Encapsulates Behavior: Objects can perform actions using methods."
      ],
      "metadata": {
        "id": "jfPpOF0AaMOa"
      }
    },
    {
      "cell_type": "markdown",
      "source": [
        "\n",
        "\n",
        "---\n",
        "\n"
      ],
      "metadata": {
        "id": "fRg3rjNqsw3W"
      }
    },
    {
      "cell_type": "markdown",
      "source": [
        "4. What is the difference between abstraction and encapsulation?\n",
        "\n",
        "- Two key ideas in object-oriented programming (OOP) are abstraction and encapsulation, but they have distinct functions.\n",
        "\n",
        " The process of presenting only the essential features to the user and concealing intricate technical details is known as abstraction.  Instead of emphasizing how an object does something, it concentrates on what it does.  Abstract classes and interfaces are frequently used to implement abstraction.  For instance, we can control the direction of an automobile by turning the steering wheel, but we are unaware of the intricate hydraulic or electronic systems that operate behind the wheel.  Abstract classes, which merely give method definitions without disclosing their actual implementation, are one way to achieve abstraction in programming.\n",
        "\n",
        " Conversely, encapsulation is the process of concealing an object's internal information and limiting direct access to it.  By regulating how data is altered or accessed, it guarantees data security and protection.  Programming languages' private, protected, and public access specifiers are used to implement encapsulation.  The engine of an automobile, for example, is enclosed within the hood to restrict direct access and guarantee that only approved systems can communicate with it.  Private attributes, which are indicated by a __ prefix, and getter and setter methods to manage data access are frequently used in Python to create encapsulation.\n",
        "\n",
        " In conclusion, encapsulation is about safeguarding data and guaranteeing controlled access, while abstraction is about concealing extraneous elements and displaying just pertinent characteristics.  Access modifiers, which limit direct manipulation of an object's data, are used to establish encapsulation, whereas abstract classes and interfaces are used to implement abstraction.  Together, these ideas improve object-oriented programming's modularity, maintainability, and code security."
      ],
      "metadata": {
        "id": "Qx7JZAgbb-fF"
      }
    },
    {
      "cell_type": "markdown",
      "source": [
        "\n",
        "\n",
        "---\n",
        "\n"
      ],
      "metadata": {
        "id": "F4EtJOj4syJN"
      }
    },
    {
      "cell_type": "markdown",
      "source": [
        "5. What are dunder methods in Python?\n",
        "\n",
        "- Dunder methods, short for double underscore methods, are built-in Python methods that have double underscores (__) at the start and finish of their names. They are also referred to as magic methods or special methods.  These methods give programmers the ability to specify how members of a class should behave when interacting with built-in operators or functions.\n",
        "\n",
        "Dunder techniques facilitate the following methods:\n",
        "\n",
        " ✅ Operator Overloading: enabling unique behavior for +, -, *, and so forth.\n",
        "\n",
        " ✅ Object Representation: Personalizing an object's print appearance.\n",
        "\n",
        " ✅ Object Comparison: Using ==, <, >, and other operators to specify how objects are compared.\n",
        "\n",
        " ✅ Custom Iteration: Using for loops to make things iterable.\n",
        "\n",
        " ✅ Automatic Functionality: Using Python's built-in functions, such as len(), str(), and repr(), with ease.\n"
      ],
      "metadata": {
        "id": "zs4t2cSa87Y7"
      }
    },
    {
      "cell_type": "markdown",
      "source": [
        "\n",
        "\n",
        "---\n",
        "\n"
      ],
      "metadata": {
        "id": "yHVt4HL0szjD"
      }
    },
    {
      "cell_type": "markdown",
      "source": [
        "6. Explain the concept of inheritance in OOP?\n",
        "- The ability for a new class (child class or subclass) to inherit attributes and behaviors from an existing class (parent class or superclass) is a key idea in object-oriented programming (OOP).  It encourages programming structure, modularity, and code reuse.\n",
        "\n",
        "Important Ideas in Inheritance are:\n",
        "\n",
        "1) Parent Class (Super Class): The current class that inherits methods and properties.\n",
        "\n",
        "2) The new class that inherits from the parent class and may have extra features is called a child class (subclass).\n",
        "\n",
        "3) Reusability: The child class immediately inherits the parent class's attributes and behaviors, eliminating the need for code rewriting.\n",
        "\n",
        "4) Method Overriding: For specialized behavior, the child class can redefine a parent class method.\n",
        "\n",
        "Different Inheritance Types are:\n",
        "\n",
        " 1) One parent class is the source of inheritance for a child class.\n",
        "\n",
        " 2) Multiple inheritance occurs when a child class receives inheritance from multiple parent classes.\n",
        "\n",
        " 3) A parent class, which in turn is inherited from another class, is the source of inheritance for a child class in multilevel inheritance.\n",
        "\n",
        " 4) A parent class can have more than one child class through hierarchical inheritance.\n",
        "\n",
        " 5) Combining two or more inheritance patterns is known as hybrid inheritance."
      ],
      "metadata": {
        "id": "dl6eU4fW900U"
      }
    },
    {
      "cell_type": "markdown",
      "source": [
        "\n",
        "\n",
        "---\n",
        "\n"
      ],
      "metadata": {
        "id": "EYpb5GoUs051"
      }
    },
    {
      "cell_type": "markdown",
      "source": [
        "7. What is polymorphism in OOP?\n",
        "- A key idea in object-oriented programming (OOP) is polymorphism, which permits objects of multiple classes to be regarded as belonging to the same superclass.  In programming, polymorphism, which translates to \"many forms,\" describes how various objects can react differently to the same method call.\n",
        "\n",
        "Polymorphism types include The following:\n",
        "\n",
        "1) Polymorphism in Compile Time (Method Overloading) --\n",
        " When several methods in the same class share the same name but differ in their parameters (either in terms of quantity or kind), this is known as method overloading.\n",
        " Although method overloading in the conventional sense is not supported by Python, it is possible to accomplish this with variable-length or default arguments.\n",
        "\n",
        "2) Method Overriding, or Runtime Polymorphism --\n",
        " Approach  When a subclass redefines a method that was inherited from a parent class, this is known as overriding.\n",
        " The subclass method offers a new implementation but has the same name and parameters.\n",
        "\n",
        "3) Polymorphism with Functions and --\n",
        "A single function can work with different object types if they share a common method name.\n",
        "\n",
        "4) Abstract Classes with Polymorphism (Duck Typing) --\n",
        " We adhere to the \"Duck Typing\" idea in Python: 👉  \"If it looks like a duck and quacks like a duck, it must be a duck.\"\n",
        " This indicates that if two objects of different classes implement the same method, Python permits them to be used interchangeably."
      ],
      "metadata": {
        "id": "605MjXs4Q8h5"
      }
    },
    {
      "cell_type": "markdown",
      "source": [
        "\n",
        "\n",
        "---\n",
        "\n"
      ],
      "metadata": {
        "id": "3zKG2aUbs1_S"
      }
    },
    {
      "cell_type": "markdown",
      "source": [
        "8. How is encapsulation achieved in Python?\n",
        "- Encapsulation is achieved in Python with the help of following ways:\n",
        "\n",
        "1) Defination: Encapsulation is the concept of hiding data and restricting direct access to it, allowing controlled modification through methods.\n",
        "\n",
        "2) Private and Protected Variables: Public Variable (self.var): Accessible from anywhere; Protected Variable (self._var): Suggested to be used only within the class and subclasses; Private Variable (self.__var): Cannot be accessed directly outside the class.\n",
        "\n",
        "3) Applying Getter and Setter Techniques:\n",
        " Private characteristics are retrieved by getters.\n",
        " Setters use validation to change private characteristics.\n",
        "\n",
        "4) Name Mangling:  To prevent unintentional alteration, Python internally renames private variables (self.__var → _ClassName__var), but permits access through _ClassName__var.\n",
        "\n",
        "5) Advantages of Encapsulation:\n",
        " Data security: Prevents accidental changes.\n",
        " Data Integrity: Provides methods for controlled access.\n",
        " Code maintainability enhances reusability and structure.\n",
        "\n",
        "6) In real-world applications, encapsulation is utilized in software, banking systems, and medical records where data security is essential."
      ],
      "metadata": {
        "id": "PEevJ7hfU0js"
      }
    },
    {
      "cell_type": "markdown",
      "source": [
        "\n",
        "\n",
        "---\n",
        "\n"
      ],
      "metadata": {
        "id": "ajQeoQ8Ss3Ln"
      }
    },
    {
      "cell_type": "markdown",
      "source": [
        "9.  What is a constructor in Python.\n",
        "\n",
        "- A constructor in Python is a special method used to initialize an object's attributes when it is created. In Python, the constructor is defined using the __init__() method. Whenever a new object of a class is instantiated, the __init__() method is automatically called, setting up the object's initial state. Constructors are widely used in object-oriented programming to ensure that every object has the necessary attributes when it is created, without requiring additional method calls.\n",
        "A constructor works when an object is created, Python automatically calls the class's __init__() method, which is how a constructor operates.  Usually, self—which stands for the class instance—and any additional necessary parameters are passed to this method.  The constructor assigns values to instance variables, ensuring that every object has a well-defined state from the start.\n",
        "\n",
        " A Practical Illustration of a Constructor is to\n",
        " think of a bank account system in which every client has a name, account number, and starting balance.  These details need to be set right away when a new account is established.  We may automate this step by using a constructor."
      ],
      "metadata": {
        "id": "vYEsF64RVsQR"
      }
    },
    {
      "cell_type": "markdown",
      "source": [
        "\n",
        "\n",
        "---\n",
        "\n"
      ],
      "metadata": {
        "id": "2uStPKUIs4QE"
      }
    },
    {
      "cell_type": "markdown",
      "source": [
        "10. What are class and static methods in Python?\n",
        "\n",
        "- In Python, both class methods and static methods are used to define behaviors that are not tied to a specific instance of a class. However, they differ in their use cases and how they interact with the class and its attributes.\n",
        "\n",
        "1) Class Method (@classmethod) -- A class method is one that is not specific to any one instance but rather belongs to the class.  Rather than self, which is an instance reference, it takes the class (cls) as its first parameter.  Class methods can be used to create new instances of the class or change class-level properties.\n",
        "\n",
        " Class methods have the following characteristics:\n",
        " ✅ They are defined using the @classmethod decorator.\n",
        "\n",
        " ✅ They accept cls as their initial parameter rather than self.\n",
        "\n",
        " ✅  unable to directly access instance attributes, but able to change class-level attributes.\n",
        "\n",
        " ✅ Factory methods can be used to produce instances in a different manner.\n",
        "\n",
        "2) @staticmethod, the Static Method --\n",
        " A method that doesn't work with an instance or class is called a static method.  It is merely a standard function within a class that doesn't access or change class (cls) or instance (self) properties.\n",
        "\n",
        " Static methods have the following characteristics:\n",
        "\n",
        " ✅ They are defined using the @staticmethod decorator.\n",
        "\n",
        " ✅ They don't accept self or cls as parameters.\n",
        "\n",
        " ✅  Instance or class attributes cannot be changed.\n",
        "\n",
        " ✅ Used for class-related utility/helper functions that are not dependent on instance-specific information."
      ],
      "metadata": {
        "id": "Ygd3RHV0dFvt"
      }
    },
    {
      "cell_type": "markdown",
      "source": [
        "\n",
        "\n",
        "---\n",
        "\n"
      ],
      "metadata": {
        "id": "sPJITUt4s5X5"
      }
    },
    {
      "cell_type": "markdown",
      "source": [
        "11. What is method overloading in Python?\n",
        "- The ability to specify numerous methods in a class with the same name but different parameters is known as \"method overloading\" in Python.  However, Python does not explicitly enable classic method overloading, in contrast to other programming languages like Java and C++.  Rather, it offers other approaches to do the same thing with conditional logic in a single method, variable-length parameters (*args, **kwargs), or default arguments.\n",
        "\n",
        " By using method overloading, a function can be made to handle various duties according to the kinds and quantity of arguments that are supplied to it.  The most recent specified method takes precedence over earlier ones because Python prohibits classes from having more than one method with the same name.  In order to deal with this, programmers usually employ conditional checks within a single method to change how it behaves depending on the inputs passed in.\n",
        "\n",
        " For instance, a method can be made flexible by using **kwargs for keyword arguments and *args for non-keyword arguments if it has to handle varying numbers of parameters.  This enables the method to run different logic based on the amount of arguments it receives.\n",
        "\n",
        " Generally, unlike other object-oriented languages, Python accomplishes method overloading by manipulating arguments instead than defining numerous methods with the same name but distinct parameter lists.\n"
      ],
      "metadata": {
        "id": "9mx_j7uJduea"
      }
    },
    {
      "cell_type": "markdown",
      "source": [
        "\n",
        "\n",
        "---\n",
        "\n"
      ],
      "metadata": {
        "id": "6IWfNQ9qs6Y0"
      }
    },
    {
      "cell_type": "markdown",
      "source": [
        "12. What is method overriding in OOP?\n",
        "- A key idea in Object-Oriented Programming (OOP) is method overriding, which enables a subclass to offer a particular version of a method that is already specified in its parent class.  When a method is overridden, its functionality in the parent class is either extended or replaced by the version in the child class.\n",
        "\n",
        ">> Important Features of Method Overriding:\n",
        "\n",
        "1) Same Method Name and Signature: The subclass method's name, parameters, and return type must match those of the parent class method.\n",
        "\n",
        "2) Inheritance is Necessary: When classes have a parent-child connection, method overriding takes place, requiring the child class to inherit from the parent class.\n",
        "\n",
        "3) In contrast to method overloading, which is handled at compile time in certain languages, dynamic (runtime) polymorphism resolves method overriding at runtime.  This enables the software to use the actual type of the object to decide which method to run.\n",
        "\n",
        "4) The use of super keywords allows the overridden method in the child class to still access the parent class function in certain languages (such as Python, Java, and C++) by utilizing a special keyword (super in Python and Java, :: in C++).\n",
        "\n",
        "5) Customization of Parent Class Behavior: Subclasses can expand or change the behavior of the inherited method without altering the parent class itself thanks to method overriding.\n"
      ],
      "metadata": {
        "id": "QpFTy6g1TF8V"
      }
    },
    {
      "cell_type": "markdown",
      "source": [
        "\n",
        "\n",
        "---\n",
        "\n"
      ],
      "metadata": {
        "id": "OKizupJ4ZBiT"
      }
    },
    {
      "cell_type": "markdown",
      "source": [
        "13. What is a property decorator in Python?\n",
        "- In Python, a method that functions similarly to an attribute but grants controlled access to data is defined in a class using the @property decorator.  It enables us to write getter, setter, and deleter methods and encapsulate instance variables while maintaining an easy-to-read syntax.\n",
        "\n",
        ">> Features are as follows:\n",
        "\n",
        "1) The @property Decorator's primary features include data protection and encapsulation, which aid in limiting access to instance variables and avoiding direct alteration of private characteristics.\n",
        "\n",
        "2) Readability & Simplicity: We can access properties like regular attributes rather than using explicit getter and setter methods.\n",
        "\n",
        "3) Getter Method (@property): This lets us create a method that returns a calculated value and acts like an attribute.\n",
        "\n",
        "4) The Setter Method (@attribute_name.setter) enables property adjustment during input validation or processing prior to assignment.\n",
        "\n",
        "5) When necessary, the Deleter Method (@attribute_name.deleter) allows for the controlled deletion of an attribute.\n",
        "\n",
        "6) Preserves Backward Compatibility: Converting an attribute into a property prevents current code from being altered if it was previously accessed directly and later needs more processing.\n",
        "\n",
        "@property Decorator Use Cases are:\n",
        "\n",
        "1) Data Validation Prior to Assignment: Verifying that data satisfy predetermined standards before assigning an attribute (e.g., age should be non-negative).\n",
        "\n",
        "2) Dynamically computing values rather than keeping them as fixed attributes is known as \"calculating properties on the fly\" (e.g., calculating area from length and breadth).\n",
        "\n",
        "3) Preventing Direct Attribute Modification: Maintaining a user-friendly interface while limiting access to important internal data."
      ],
      "metadata": {
        "id": "PWNJLzDeTR96"
      }
    },
    {
      "cell_type": "markdown",
      "source": [
        "\n",
        "\n",
        "---\n",
        "\n"
      ],
      "metadata": {
        "id": "QWK342ptZDp9"
      }
    },
    {
      "cell_type": "markdown",
      "source": [
        "14. Why is polymorphism important in OOP?\n",
        "- Importantance are:\n",
        "\n",
        "1) Polymorphism is essential for OOP code reusability since it reduces code duplication by enabling the usage of the same interface for many data types or classes.\n",
        "\n",
        " 2) Programs can more easily be expanded by adding new features without changing the old code because to flexibility and scalability.\n",
        "\n",
        "3) Runtime decision-making is made possible via dynamic method dispatch, which determines the appropriate method to call based on the type of object.\n",
        "\n",
        " 4) Enhances Maintainability: By permitting modifications to be made to particular classes without impacting the program as a whole, this feature makes code maintenance easier.\n",
        "\n",
        " 5) Improves Readability: By offering a consistent method of interacting with objects, the code becomes easier to read and comprehend.\n",
        "\n",
        " 6) Supports Multiple Implementations: Depending on the object context, the same function or method name can carry out several duties.\n",
        "\n",
        " 7) Promotes Loose Coupling: This lessens reliance between parts, increasing the system's modularity and flexibility.\n",
        "\n",
        " 8) Better Design Practices: Produces code that is organized and effective by adhering to OOP concepts like abstraction and encapsulation.\n"
      ],
      "metadata": {
        "id": "NOzxYXTmTWcp"
      }
    },
    {
      "cell_type": "markdown",
      "source": [
        "\n",
        "\n",
        "---\n",
        "\n"
      ],
      "metadata": {
        "id": "znlSAj7PZE5C"
      }
    },
    {
      "cell_type": "markdown",
      "source": [
        "15. What is an abstract class in Python?\n",
        "- In Python, a method that functions similarly to an attribute but grants controlled access to data is defined in a class using the @property decorator.  It enables us to write getter, setter, and deleter methods and encapsulate instance variables while maintaining an easy-to-read syntax.\n",
        "\n",
        ">> Important attributes of the @property are:\n",
        "\n",
        " 1) Data protection and decorator encapsulation: It aids in limiting access to instance variables and avoiding direct alteration of private attributes.\n",
        "\n",
        " 2) Readability & Simplicity: We can access properties like regular attributes rather than using explicit getter and setter methods.\n",
        "\n",
        " 3) Getter Method (@property): This lets us create a method that returns a calculated value and acts like an attribute.\n",
        "\n",
        " 4) The Setter Method (@attribute_name.setter) enables property adjustment during input validation or processing prior to assignment."
      ],
      "metadata": {
        "id": "9lBMh5HTTbld"
      }
    },
    {
      "cell_type": "markdown",
      "source": [
        "\n",
        "\n",
        "---\n",
        "\n"
      ],
      "metadata": {
        "id": "gax7wycdZGxP"
      }
    },
    {
      "cell_type": "markdown",
      "source": [
        "16. What are advantages of OOP?\n",
        "- Object-Oriented Programming (OOP) Benefits are:\n",
        "\n",
        "1) Encapsulation prevents direct access to data and ensures controlled alterations by grouping methods and data together.\n",
        "\n",
        "2) Code Reusability: This encourages inheritance, which makes it possible to reuse preexisting code in new applications without duplication.\n",
        "\n",
        "3) Scalability: Facilitates modular development, which makes it simpler to expand applications as needs change.\n",
        "\n",
        "4) Maintainability: Applications are easier to debug, modify, and update when their code is well-organized and modular.\n",
        "\n",
        "5) Abstraction minimizes complexity and improves security by keeping implementation details hidden from the user and only revealing the features that are required.\n",
        "\n",
        "6) Polymorphism: Enhances flexibility and extensibility by enabling the same function or method to act differently depending on the object calling it.\n",
        "\n",
        " 7) Modularity: Enhances structure and readability by dividing huge programs into more manageable, smaller components (classes and objects).\n",
        "\n",
        " 8) Security: OOP aids in data protection by limiting direct access to data through the use of access modifiers (private, protected, and public).\n",
        "\n",
        "9)  Effectiveness in issue-Solving: By portraying entities as objects, this approach promotes real-world issue modeling and improves the intuitiveness of software design.\n",
        "\n",
        "10)  Better Collaboration: Because developers can work separately on distinct classes or modules, teamwork is facilitated."
      ],
      "metadata": {
        "id": "LsMjddLQTc-X"
      }
    },
    {
      "cell_type": "markdown",
      "source": [
        "\n",
        "\n",
        "---\n",
        "\n"
      ],
      "metadata": {
        "id": "c6AoZz_dZIc5"
      }
    },
    {
      "cell_type": "markdown",
      "source": [
        "17. What is the difference between a class variable and an instance variable?\n",
        "- >>Variable by Class are:\n",
        "\n",
        "1) Distributed throughout every instance of a class.\n",
        "\n",
        "2) Defined outside of any instance methods but within the class.\n",
        "\n",
        "3) All instances of the class are impacted when a class variable is changed.\n",
        "\n",
        "4) Properties that ought to be shared by all objects are stored here.\n",
        "\n",
        "5) Accessed using an instance or the class name.\n",
        "\n",
        " >> The instance variable are:\n",
        "\n",
        "1) Specific to every class instance.\n",
        "\n",
        "2) Defined using self inside a method (usually __init__).\n",
        "\n",
        "3) Only that particular object is impacted when an instance variable is changed.\n",
        "\n",
        "4) Used to store object-specific info.\n",
        "\n",
        "5) Accessed and changed with the help of self.variable_name."
      ],
      "metadata": {
        "id": "-QbwQoyjThgT"
      }
    },
    {
      "cell_type": "markdown",
      "source": [
        "\n",
        "\n",
        "---\n",
        "\n"
      ],
      "metadata": {
        "id": "e_sYo_JDZJUu"
      }
    },
    {
      "cell_type": "markdown",
      "source": [
        "18. What is the multiple inhertance in python?\n",
        "- Multiple Inheritance in Python are:\n",
        "\n",
        "1) Definition – Multiple inheritance is a feature in Python where a class can inherit attributes and methods from more than one parent class.\n",
        "\n",
        "2) Code Reusability – Allows a child class to inherit functionalities from multiple classes, reducing code duplication.\n",
        "\n",
        "3) Method Resolution Order (MRO) – Python follows the C3 Linearization (MRO) algorithm to determine the method execution order when multiple parent classes have the same method.\n",
        "\n",
        "4) Flexibility: Allows a class to incorporate features from other classes, increasing its adaptability to a range of needs.\n",
        "\n",
        " 5) Complexity: May cause confusion and disputes, particularly when methods with the same name are used by various parent classes.\n",
        "\n",
        " 6) Use of super(): By preventing redundancy and guaranteeing correct execution order, the super() function assists in managing method calls across several parent classes.\n",
        "\n",
        " 7) Common Use Cases: A class can inherit behavior from various sources without needless code repetition when it is used in frameworks and mixins."
      ],
      "metadata": {
        "id": "20EbF1fdTmcB"
      }
    },
    {
      "cell_type": "markdown",
      "source": [
        "\n",
        "\n",
        "---\n",
        "\n"
      ],
      "metadata": {
        "id": "ttK12sNgZK8b"
      }
    },
    {
      "cell_type": "markdown",
      "source": [
        "19. Explain the purpose of ‘’__str__’ and ‘__repr__’ ‘ methods in Python.\n",
        "- The Python __str__ Method's goal is to:\n",
        "\n",
        "1) Give an object a string representation that is readable by humans.\n",
        "\n",
        "2) Usage: Invoked whenever print(object) or str(object) are used.\n",
        "\n",
        "3) Readable Output: Designed with end users in mind, this feature makes the output easier to comprehend.\n",
        "\n",
        "4) Customization: This feature can be overridden in a class to give an object's meaningful string representation.\n",
        "\n",
        "5) Example Use Case: Providing information on an object in an easy-to-understand manner, like \"Product: Laptop, Price: $1000\".\n",
        "\n",
        ">> The purpose of Python's __repr__ method is:\n",
        "\n",
        "1) To provide a clear textual representation of an object, mostly for development and debugging.\n",
        "\n",
        "2) Usage: Invoked when an object is inspected during an interactive session or when repr(object) is used.\n",
        "\n",
        "3) Developer-Friendly Output: Designed to help developers comprehend an object's internal state.\n",
        "\n",
        "4) Usually yields a string that may be used to rebuild the object and usually includes object details.\n",
        "\n",
        "5) Debugging, recording, or presenting objects in a manner that facilitates troubleshooting is an example of a use case."
      ],
      "metadata": {
        "id": "GIWmguEFTuER"
      }
    },
    {
      "cell_type": "markdown",
      "source": [
        "\n",
        "\n",
        "---\n",
        "\n"
      ],
      "metadata": {
        "id": "G5Ks8nuJZL9C"
      }
    },
    {
      "cell_type": "markdown",
      "source": [
        "20. What is the significance of the ‘super()’ function in Python?\n",
        "- The super() Function's Significance in Python Access  Parent Class Methods are:\n",
        "\n",
        "1) This feature enables the parent class's methods to be called without the parent class being named explicitly.\n",
        "\n",
        " 2) Avoids Redundancy: By doing away with the necessity of manually referencing parent classes, code becomes cleaner and easier to maintain.\n",
        "\n",
        " 3) Supports Multiple Inheritance: By adhering to the Method Resolution Order (MRO), this feature assists in resolving method conflicts that arise when a class inherits from multiple parent classes.\n",
        "\n",
        " 4) Ensures Correct Initialization: When inheritance occurs, make sure the __init__ method of the parent class is run correctly before initializing the attributes of the child class.\n",
        "\n",
        "5) Enhances Code Reusability: By permitting subclasses to utilize parent class functionality, this approach encourages modular and reusable code.\n",
        "\n",
        "6) The Importance of the super() Function in Python Access Parent Class Methods:  This feature makes it possible to call the parent class's methods without explicitly naming the parent class.\n",
        "\n",
        " 7) Avoids Redundancy: Code is made cleaner and easier to maintain by eliminating the need to manually reference parent classes.\n",
        "\n",
        " 8) Supports Multiple Inheritance: This feature helps to resolve method conflicts that occur when a class inherits from multiple parent classes by following the Method Resolution Order (MRO).\n",
        "\n",
        " 9) Ensures Proper Initialization: When inheritance takes place, make sure the parent class's __init__ method is executed appropriately before setting up the child class's properties.\n",
        "\n",
        " 10) Improves Code Reusability: This strategy promotes modular and reusable code by allowing subclasses to use parent class functions."
      ],
      "metadata": {
        "id": "7lRcHc7sTyJk"
      }
    },
    {
      "cell_type": "markdown",
      "source": [
        "\n",
        "\n",
        "---\n",
        "\n"
      ],
      "metadata": {
        "id": "H4dfDsoEZMsF"
      }
    },
    {
      "cell_type": "markdown",
      "source": [
        "21. What is the significance of the __del__ method in Python?\n",
        "- Importance of the Python Destructor Method's __del__ Method are:\n",
        "\n",
        "1) In Python, the __del__ method functions as a destructor and is automatically invoked when an object is going to be destroyed.\n",
        "\n",
        " 2) Resource cleanup is the process of releasing resources, such as memory, files, and database connections, before an object is destroyed.\n",
        "\n",
        " 3) Python features an automatic garbage collector, but when an object leaves scope, __del__ makes sure that cleanup happens right away.\n",
        "\n",
        " 4) Called When No References Exist: When an object has no more references pointing to it, the __del__ method is called.\n",
        "\n",
        " 5) Helpful for Debugging: By printing a message when an object is destroyed, it is possible to trace object deletion and assist in debugging memory leaks.\n",
        "\n",
        " 6) Not Always Promised to Run: Python's garbage collector may not always or never call __del__ in some situations (such as circular references).\n",
        "\n",
        " 7) Can Be Overridden: When an object is destroyed, developers can modify the __del__ method to carry out particular operations.\n",
        "\n",
        " 8) Use with Caution: When handling external resources, improper use of __del__ can result in unexpected behavior and performance problems."
      ],
      "metadata": {
        "id": "yKZMgX8MT2WE"
      }
    },
    {
      "cell_type": "markdown",
      "source": [
        "\n",
        "\n",
        "---\n",
        "\n"
      ],
      "metadata": {
        "id": "ysE7GsOSZOSr"
      }
    },
    {
      "cell_type": "markdown",
      "source": [
        "22. What is the difference between @staticmethod and @classmethod in Python?\n",
        "- The Python function @staticmethod is:\n",
        "\n",
        "1) A member of the class but does not access or change class or instance properties.\n",
        "\n",
        "2) No self or cls Parameter: Its first parameter is neither self (instance reference) nor cls (class reference).\n",
        "\n",
        "3) Used for Utility Functions: Perfect for utility methods that carry out class-related tasks without requiring access to instance or class data.\n",
        "\n",
        "4) Called Using Class or Instance: ClassName.method() and object.method() are two ways to access this function.\n",
        "\n",
        "5) Does Not Modify Class State: It is not possible to change instance attributes or class variables.\n",
        "\n",
        ">> In Python, @classmethod are:\n",
        "\n",
        "1) Bound to the Class: It has access to class attributes and functions at the class level.\n",
        "\n",
        "2) Uses cls as the first parameter, which allows class variables to be modified and represents the class itself.\n",
        "\n",
        "3) Factory methods are frequently used to generate instances of the class with various starting values.\n",
        "\n",
        "4) Class variables can be accessed and modified; class-level attributes can be updated or retrieved.\n",
        "\n",
        "5) Called Using Class or Instance: This function operates at the class level and can be reached via either object.method() or ClassName.method()."
      ],
      "metadata": {
        "id": "wKNDQURJT6yk"
      }
    },
    {
      "cell_type": "markdown",
      "source": [
        "\n",
        "\n",
        "---\n",
        "\n"
      ],
      "metadata": {
        "id": "rF1OkVerZPHq"
      }
    },
    {
      "cell_type": "markdown",
      "source": [
        "23. How does polymorphism work in Python with inheritance?\n",
        "- Python Polymorphism Works with Inheritance areas follows:\n",
        "\n",
        "1) Definition: Polymorphism enables code flexibility by allowing methods of various classes to have the same name but distinct implementations.\n",
        "\n",
        " 2) Method Overriding: To ensure dynamic behavior, a child class might implement a method that is already defined in the parent class in its own way.\n",
        "\n",
        " 3) Although objects of different classes can call the same method name, they individually carry out their own class-specific operations.\n",
        "\n",
        " 4) Code Reusability: Polymorphism reduces code duplication by allowing a single function to interact with objects of different classes.\n",
        "\n",
        " 5) Dynamic Method Resolution: Python allows for flexible program architecture by deciding the method to run at runtime depending on the object invoking it.\n",
        "\n",
        " 6) Real-World Use Case: A parent class called Animal has a method called sound(), and its offspring classes, Dog and Cat, override it with their own special implementations, bark() and meow().\n",
        "\n",
        " 7) Duck Typing is supported by Python, which permits polymorphism even in the absence of explicit inheritance. This means that an object is handled according to its methods rather than its class type.\n",
        "\n",
        " 8) Utilizes Built-in Features  Polymorphism is demonstrated by functions such as len(), sorted(), and str() that operate differently based on the object provided."
      ],
      "metadata": {
        "id": "taBL6UG_UFN_"
      }
    },
    {
      "cell_type": "markdown",
      "source": [
        "\n",
        "\n",
        "---\n",
        "\n"
      ],
      "metadata": {
        "id": "aPRF9eNtZP07"
      }
    },
    {
      "cell_type": "markdown",
      "source": [
        "24. What is method chaining in Python OOP?\n",
        "- In Python OOP, method chaining is as follows:\n",
        "\n",
        "1) Definition: Method chaining is a technique that improves code readability by calling numerous methods on the same object in a single sentence.\n",
        "\n",
        " 2) Returns self: All of the chain's methods return the object (self), enabling additional method calls to it.\n",
        "\n",
        " 3) Reduces Code Lines: Code can be made more efficient and compact by executing methods sequentially rather than calling them one at a time.\n",
        "\n",
        " 4) Fluent interfaces are frequently used in data processing pipelines where several transformations are executed one after the other, as well as in frameworks like pandas and Django ORM.\n",
        "\n",
        "5) Enhances Readability: The code is easier to comprehend because to its clear and organized logical flow of activities.\n",
        "\n",
        "6) A Car class with methods is an example of a use case. It is possible to chain start(),.accelerate(), and.stop() together, as in car.start().accelerate().stop().\n",
        "\n",
        " 7) Needs Correct Implementation: If a method doesn't return self, the chain will break and an error will occur.\n",
        "\n",
        " 8) Prevents Needless Temporary Variables: Intermediate variables are not required because the object is altered continually across the chain."
      ],
      "metadata": {
        "id": "jMfG_H5ZUIHl"
      }
    },
    {
      "cell_type": "markdown",
      "source": [
        "\n",
        "\n",
        "---\n",
        "\n"
      ],
      "metadata": {
        "id": "xSFYYz3HZQsD"
      }
    },
    {
      "cell_type": "markdown",
      "source": [
        "25. What is the purpose of the __call__ method in Python?\n",
        "- The __call__ Method in Python serves the following purposes:\n",
        "\n",
        " 1) Enables an Object to Be Called Like a Function: When a class defines the __call__ method, parentheses () can be used to call instances of that class like a function.\n",
        "\n",
        " 2) Increases Code Flexibility: By enabling objects to act as both functions and objects, the __call__ method increases the readability and adaptability of code.\n",
        "\n",
        " 3) Frequently Used in Function Wrappers: In higher-order function contexts, this is frequently used in decorators and wrappers to make objects behave as callable functions.\n",
        "\n",
        " 4) Enhances Readability: __call__ offers a single entry point for carrying out functionality inside an object rather to defining several methods with clear names.\n",
        "\n",
        " 5) Beneficial for Stateful Functionality: It can work similarly to a function and save state information across several calls.\n",
        "\n",
        " 6) Allows for Custom Call Behavior: Classes that require function-like behavior can benefit from the ability for developers to alter what occurs when an instance is \"called.\"\n",
        "\n",
        "7) Used in Machine Learning and APIs: Models and layers in frameworks such as TensorFlow and PyTorch use __call__ to dynamically handle incoming data."
      ],
      "metadata": {
        "id": "T-2Ej2ktULoO"
      }
    },
    {
      "cell_type": "markdown",
      "source": [
        "#Practical Questions"
      ],
      "metadata": {
        "id": "J2LCBNrqnNBq"
      }
    },
    {
      "cell_type": "code",
      "source": [
        "#Q1) Create a parent class Animal with a method speak() that prints a generic message. Create a child class Dog that overrides the speak() method to print \"Bark!\".\n",
        "class Animal:\n",
        "    def speak(self):\n",
        "        print(\"Generic animal sound\")\n",
        "\n",
        "class Dog(Animal):\n",
        "    def speak(self):\n",
        "        print(\"Bark!\")\n",
        "\n",
        "a = Animal()\n",
        "a.speak()\n",
        "\n",
        "d = Dog()\n",
        "d.speak()"
      ],
      "metadata": {
        "colab": {
          "base_uri": "https://localhost:8080/"
        },
        "id": "5Z9VflGunRj_",
        "outputId": "4b2a8b2e-3007-4ce9-d428-778c7db93fa0"
      },
      "execution_count": 1,
      "outputs": [
        {
          "output_type": "stream",
          "name": "stdout",
          "text": [
            "Generic animal sound\n",
            "Bark!\n"
          ]
        }
      ]
    },
    {
      "cell_type": "code",
      "source": [
        "#Q2) Write a program to create an abstract class Shape with a method area(). Derive classes Circle and Rectangle from it and implement the area() method in both.\n",
        "from abc import ABC, abstractmethod\n",
        "\n",
        "class Shape(ABC):\n",
        "    @abstractmethod\n",
        "    def area(self):\n",
        "        pass\n",
        "\n",
        "# Derive class Circle\n",
        "class Circle(Shape):\n",
        "    def __init__(self, radius):\n",
        "        self.radius = radius\n",
        "\n",
        "    def area(self):\n",
        "        return 3.1416 * self.radius * self.radius\n",
        "\n",
        "# Derive class Rectangle\n",
        "class Rectangle(Shape):\n",
        "    def __init__(self, length, width):\n",
        "        self.length = length\n",
        "        self.width = width\n",
        "\n",
        "    def area(self):\n",
        "        return self.length * self.width\n",
        "\n",
        "c = Circle(5)\n",
        "r = Rectangle(4, 6)\n",
        "\n",
        "print(\"Area of Circle:\", c.area())\n",
        "print(\"Area of Rectangle:\", r.area())"
      ],
      "metadata": {
        "colab": {
          "base_uri": "https://localhost:8080/"
        },
        "id": "1_Tu_tKrngqg",
        "outputId": "8db26d3f-6e80-4331-8480-d1343c5fb4da"
      },
      "execution_count": 2,
      "outputs": [
        {
          "output_type": "stream",
          "name": "stdout",
          "text": [
            "Area of Circle: 78.54\n",
            "Area of Rectangle: 24\n"
          ]
        }
      ]
    },
    {
      "cell_type": "code",
      "source": [
        "#Q3) Implement a multi-level inheritance scenario where a class Vehicle has an attribute type. Derive a class Car and further derive a class ElectricCar that adds a battery attribute.\n",
        "\n",
        "class Vehicle:\n",
        "    def __init__(self, type):\n",
        "        self.type = type\n",
        "\n",
        "# Derived class from Vehicle\n",
        "class Car(Vehicle):\n",
        "    def __init__(self, type, brand):\n",
        "        super().__init__(type)\n",
        "        self.brand = brand\n",
        "\n",
        "# Further derived class from Car\n",
        "class ElectricCar(Car):\n",
        "    def __init__(self, type, brand, battery):\n",
        "        super().__init__(type, brand)\n",
        "        self.battery = battery\n",
        "\n",
        "    def display_info(self):\n",
        "        return f\"{self.brand} is an {self.type} with a {self.battery} battery.\"\n",
        "\n",
        "# Object creation\n",
        "tesla = ElectricCar(\"Electric Vehicle\", \"Tesla\", \"100 kWh\")\n",
        "print(tesla.display_info())"
      ],
      "metadata": {
        "colab": {
          "base_uri": "https://localhost:8080/"
        },
        "id": "JBfhrzGVpB0t",
        "outputId": "929f61f8-78a7-4b6f-ab66-98ce70b31f6e"
      },
      "execution_count": 3,
      "outputs": [
        {
          "output_type": "stream",
          "name": "stdout",
          "text": [
            "Tesla is an Electric Vehicle with a 100 kWh battery.\n"
          ]
        }
      ]
    },
    {
      "cell_type": "code",
      "source": [
        "#Q4)  Demonstrate polymorphism by creating a base class Bird with a method fly(). Create two derived classes Sparrow and Penguin that override the fly() method.\n",
        "\n",
        "class Bird:\n",
        "    def fly(self):\n",
        "        return \"Some birds can fly.\"\n",
        "\n",
        "# Derived class 1\n",
        "class Sparrow(Bird):\n",
        "    def fly(self):\n",
        "        return \"Sparrow flies high in the sky.\"\n",
        "\n",
        "# Derived class 2\n",
        "class Penguin(Bird):\n",
        "    def fly(self):\n",
        "        return \"Penguins can't fly, they swim.\"\n",
        "\n",
        "# Creating objects\n",
        "birds = [Sparrow(), Penguin()]\n",
        "\n",
        "# Demonstrating polymorphism\n",
        "for bird in birds:\n",
        "    print(bird.fly())"
      ],
      "metadata": {
        "id": "0H7CE2THpKH7",
        "colab": {
          "base_uri": "https://localhost:8080/"
        },
        "outputId": "642ce412-3183-4a8f-cfbd-516695e959c1"
      },
      "execution_count": 4,
      "outputs": [
        {
          "output_type": "stream",
          "name": "stdout",
          "text": [
            "Sparrow flies high in the sky.\n",
            "Penguins can't fly, they swim.\n"
          ]
        }
      ]
    },
    {
      "cell_type": "code",
      "source": [
        "#Q5) Write a program to demonstrate encapsulation by creating a class BankAccount with private attributes balance and methods to deposit, withdraw, and check balance.\n",
        "class BankAccount:\n",
        "    def __init__(self, balance=0):\n",
        "        self.__balance = balance  # Private attribute\n",
        "\n",
        "    def deposit(self, amount):\n",
        "        self.__balance += amount\n",
        "\n",
        "    def withdraw(self, amount):\n",
        "        if amount <= self.__balance:\n",
        "            self.__balance -= amount\n",
        "        else:\n",
        "            print(\"Insufficient balance\")\n",
        "\n",
        "    def check_balance(self):\n",
        "        return self.__balance\n",
        "\n",
        "# Creating an account\n",
        "account = BankAccount(1000)\n",
        "account.deposit(500)\n",
        "account.withdraw(300)\n",
        "print(\"Balance:\", account.check_balance())"
      ],
      "metadata": {
        "id": "qCZv4R7IpL-L",
        "colab": {
          "base_uri": "https://localhost:8080/"
        },
        "outputId": "1932a4d4-2b74-4f50-d90d-17215cbf9f27"
      },
      "execution_count": 5,
      "outputs": [
        {
          "output_type": "stream",
          "name": "stdout",
          "text": [
            "Balance: 1200\n"
          ]
        }
      ]
    },
    {
      "cell_type": "code",
      "source": [
        "#Q6)  Demonstrate runtime polymorphism using a method play() in a base class Instrument. Derive classes Guitar and Piano that implement their own version of play().\n",
        "\n",
        "class Instrument:\n",
        "    def play(self):\n",
        "        return \"Playing an instrument.\"\n",
        "\n",
        "# Derived class 1\n",
        "class Guitar(Instrument):\n",
        "    def play(self):\n",
        "        return \"Strumming the guitar.\"\n",
        "\n",
        "# Derived class 2\n",
        "class Piano(Instrument):\n",
        "    def play(self):\n",
        "        return \"Playing the piano keys.\"\n",
        "\n",
        "# Creating objects\n",
        "instruments = [Guitar(), Piano()]\n",
        "\n",
        "# Demonstrating polymorphism\n",
        "for instrument in instruments:\n",
        "    print(instrument.play())"
      ],
      "metadata": {
        "id": "3Zinf5D-pPLg",
        "colab": {
          "base_uri": "https://localhost:8080/"
        },
        "outputId": "4d75ad33-fcea-4bdc-c4c3-50d22c8b8c39"
      },
      "execution_count": 6,
      "outputs": [
        {
          "output_type": "stream",
          "name": "stdout",
          "text": [
            "Strumming the guitar.\n",
            "Playing the piano keys.\n"
          ]
        }
      ]
    },
    {
      "cell_type": "code",
      "source": [
        "#Q7) Create a class MathOperations with a class method add_numbers() to add two numbers and a static method subtract_numbers() to subtract two numbers.\n",
        "\n",
        "class MathOperations:\n",
        "    @classmethod\n",
        "    def add_numbers(cls, a, b):\n",
        "        return a + b\n",
        "\n",
        "    @staticmethod\n",
        "    def subtract_numbers(a, b):\n",
        "        return a - b\n",
        "\n",
        "# Calling methods\n",
        "print(MathOperations.add_numbers(5, 3))   # Output: 8\n",
        "print(MathOperations.subtract_numbers(5, 3))  # Output: 2"
      ],
      "metadata": {
        "id": "sRVQ6h2RpSO-",
        "colab": {
          "base_uri": "https://localhost:8080/"
        },
        "outputId": "106f0e10-6f97-49ba-fee7-305edfadbcab"
      },
      "execution_count": 7,
      "outputs": [
        {
          "output_type": "stream",
          "name": "stdout",
          "text": [
            "8\n",
            "2\n"
          ]
        }
      ]
    },
    {
      "cell_type": "code",
      "source": [
        "#Q8)  Implement a class Person with a class method to count the total number of persons created.\n",
        "class Person:\n",
        "    count = 0  # Class variable to track number of persons\n",
        "\n",
        "    def __init__(self):\n",
        "        Person.count += 1  # Increment count on each object creation\n",
        "\n",
        "    @classmethod\n",
        "    def total_persons(cls):\n",
        "        return cls.count  # Return total count\n",
        "\n",
        "# Creating objects\n",
        "p1 = Person()\n",
        "p2 = Person()\n",
        "p3 = Person()\n",
        "\n",
        "# Checking total persons created\n",
        "print(\"Total persons:\", Person.total_persons())  # Output: Total persons: 3"
      ],
      "metadata": {
        "colab": {
          "base_uri": "https://localhost:8080/"
        },
        "id": "luaB6e5WpWjk",
        "outputId": "2c2c3aa0-47b4-4f0f-ef91-2f2a7fe9d8d7"
      },
      "execution_count": 8,
      "outputs": [
        {
          "output_type": "stream",
          "name": "stdout",
          "text": [
            "Total persons: 3\n"
          ]
        }
      ]
    },
    {
      "cell_type": "code",
      "source": [
        "#Q9) Write a class Fraction with attributes numerator and denominator. Override the str method to display the fraction as \"numerator/denominator\"\n",
        "class Fraction:\n",
        "    def __init__(self, numerator, denominator):\n",
        "        self.numerator = numerator\n",
        "        self.denominator = denominator\n",
        "\n",
        "    def __str__(self):\n",
        "        return f\"{self.numerator}/{self.denominator}\"\n",
        "\n",
        "# Creating an object\n",
        "frac = Fraction(3, 4)\n",
        "print(frac)  # Output: 3/4"
      ],
      "metadata": {
        "colab": {
          "base_uri": "https://localhost:8080/"
        },
        "id": "CxvmiBW2pYDt",
        "outputId": "3e2137b6-7c6e-4f95-e916-ef4c7d2927d0"
      },
      "execution_count": 9,
      "outputs": [
        {
          "output_type": "stream",
          "name": "stdout",
          "text": [
            "3/4\n"
          ]
        }
      ]
    },
    {
      "cell_type": "code",
      "source": [
        "#Q10)  Demonstrate operator overloading by creating a class Vector and overriding the add method to add two vectors.\n",
        "\n",
        "class Vector:\n",
        "    def __init__(self, x, y):\n",
        "        self.x = x\n",
        "        self.y = y\n",
        "\n",
        "    def __add__(self, other):\n",
        "        return Vector(self.x + other.x, self.y + other.y)\n",
        "\n",
        "    def __str__(self):\n",
        "        return f\"({self.x}, {self.y})\"\n",
        "\n",
        "# Creating objects\n",
        "v1 = Vector(2, 3)\n",
        "v2 = Vector(4, 5)\n",
        "\n",
        "# Adding two vectors\n",
        "result = v1 + v2\n",
        "print(result)  # Output: (6, 8)"
      ],
      "metadata": {
        "colab": {
          "base_uri": "https://localhost:8080/"
        },
        "id": "5nhHl4ZOpZcw",
        "outputId": "2aba609c-b175-42ac-d80a-4a090e409e71"
      },
      "execution_count": 10,
      "outputs": [
        {
          "output_type": "stream",
          "name": "stdout",
          "text": [
            "(6, 8)\n"
          ]
        }
      ]
    },
    {
      "cell_type": "code",
      "source": [
        "#Q11) Create a class Person with attributes name and age. Add a method greet() that prints \"Hello, my name is {name} and I am {age} years old\".\n",
        "class Person:\n",
        "    def __init__(self, name, age):\n",
        "        self.name = name\n",
        "        self.age = age\n",
        "\n",
        "    def greet(self):\n",
        "        print(f\"Hello, my name is {self.name} and I am {self.age} years old.\")\n",
        "\n",
        "p = Person(\"Alice\", 25)\n",
        "p.greet()  # Output: Hello, my name is Alice and I am 25 years old."
      ],
      "metadata": {
        "id": "pAJ5WJjb4_Y8",
        "colab": {
          "base_uri": "https://localhost:8080/"
        },
        "outputId": "03d38ab9-99af-4cfe-ba21-401247e95413"
      },
      "execution_count": 11,
      "outputs": [
        {
          "output_type": "stream",
          "name": "stdout",
          "text": [
            "Hello, my name is Alice and I am 25 years old.\n"
          ]
        }
      ]
    },
    {
      "cell_type": "code",
      "source": [
        "#Q12)  Implement a class Student with attributes name and grades. Create a method average_grade() to compute the average of the grades.\n",
        "class Student:\n",
        "    def __init__(self, name, grades):\n",
        "        self.name = name\n",
        "        self.grades = grades\n",
        "\n",
        "    def average_grade(self):\n",
        "        return sum(self.grades) / len(self.grades)\n",
        "\n",
        "# Creating an object\n",
        "s = Student(\"John\", [85, 90, 78])\n",
        "print(\"Average Grade:\", s.average_grade())  # Output: Average Grade: 84.33"
      ],
      "metadata": {
        "id": "cxKI3fsx5CwG",
        "colab": {
          "base_uri": "https://localhost:8080/"
        },
        "outputId": "7381e9e8-df69-4943-acf9-a4ef9bcb1bb1"
      },
      "execution_count": 12,
      "outputs": [
        {
          "output_type": "stream",
          "name": "stdout",
          "text": [
            "Average Grade: 84.33333333333333\n"
          ]
        }
      ]
    },
    {
      "cell_type": "code",
      "source": [
        "#Q13) Create a class Rectangle with methods set_dimensions() to set the dimensions and area() to calculate the area.\n",
        "class Rectangle:\n",
        "    def __init__(self):\n",
        "        self.length = 0\n",
        "        self.width = 0\n",
        "\n",
        "    def set_dimensions(self, length, width):\n",
        "        self.length = length\n",
        "        self.width = width\n",
        "\n",
        "    def area(self):\n",
        "        return self.length * self.width\n",
        "\n",
        "# Creating an object\n",
        "r = Rectangle()\n",
        "r.set_dimensions(5, 3)\n",
        "print(\"Area:\", r.area())  # Output: Area: 15"
      ],
      "metadata": {
        "id": "QSrlMSfuVFva",
        "colab": {
          "base_uri": "https://localhost:8080/"
        },
        "outputId": "90c5c715-1ad0-476e-f7a2-3a7ec9b6ade0"
      },
      "execution_count": 13,
      "outputs": [
        {
          "output_type": "stream",
          "name": "stdout",
          "text": [
            "Area: 15\n"
          ]
        }
      ]
    },
    {
      "cell_type": "code",
      "source": [
        "#Q14) Create a class Employee with a method calculate_salary() that computes the salary based on hours worked and hourly rate. Create a derived class Manager that adds a bonus to the salary.\n",
        "class Employee:\n",
        "    def __init__(self, hours, rate):\n",
        "        self.hours = hours\n",
        "        self.rate = rate\n",
        "\n",
        "    def calculate_salary(self):\n",
        "        return self.hours * self.rate\n",
        "\n",
        "class Manager(Employee):\n",
        "    def __init__(self, hours, rate, bonus):\n",
        "        super().__init__(hours, rate)\n",
        "        self.bonus = bonus\n",
        "\n",
        "    def calculate_salary(self):\n",
        "        return super().calculate_salary() + self.bonus\n",
        "\n",
        "emp = Employee(40, 20)\n",
        "mgr = Manager(40, 20, 500)\n",
        "\n",
        "print(\"Employee Salary:\", emp.calculate_salary())  # Output: 800\n",
        "print(\"Manager Salary:\", mgr.calculate_salary())  # Output: 1300"
      ],
      "metadata": {
        "id": "9yquX0LnVUdD",
        "colab": {
          "base_uri": "https://localhost:8080/"
        },
        "outputId": "40b776fd-4e89-4e28-e9d9-c537599afc13"
      },
      "execution_count": 14,
      "outputs": [
        {
          "output_type": "stream",
          "name": "stdout",
          "text": [
            "Employee Salary: 800\n",
            "Manager Salary: 1300\n"
          ]
        }
      ]
    },
    {
      "cell_type": "code",
      "source": [
        "#Q15) Create a class Product with attributes name, price, and quantity. Implement a method total_price() that calculates the total price of the product.\n",
        "class Product:\n",
        "    def __init__(self, name, price, quantity):\n",
        "        self.name = name\n",
        "        self.price = price\n",
        "        self.quantity = quantity\n",
        "\n",
        "    def total_price(self):\n",
        "        return self.price * self.quantity\n",
        "\n",
        "p = Product(\"Laptop\", 50000, 2)\n",
        "print(\"Total Price:\", p.total_price())  # Output: 100000"
      ],
      "metadata": {
        "id": "PYZrEB3pYnWm",
        "colab": {
          "base_uri": "https://localhost:8080/"
        },
        "outputId": "a2057d75-5f47-44bc-91b2-20e04fb76cac"
      },
      "execution_count": 15,
      "outputs": [
        {
          "output_type": "stream",
          "name": "stdout",
          "text": [
            "Total Price: 100000\n"
          ]
        }
      ]
    },
    {
      "cell_type": "code",
      "source": [
        "#Q16) Create a class Animal with an abstract method sound(). Create two derived classes Cow and Sheep that implement the sound() method.\n",
        "from abc import ABC, abstractmethod\n",
        "\n",
        "class Animal(ABC):\n",
        "    @abstractmethod\n",
        "    def sound(self):\n",
        "        pass\n",
        "\n",
        "class Cow(Animal):\n",
        "    def sound(self):\n",
        "        return \"Moo\"\n",
        "\n",
        "class Sheep(Animal):\n",
        "    def sound(self):\n",
        "        return \"Baa\"\n",
        "\n",
        "# Creating objects\n",
        "c = Cow()\n",
        "s = Sheep()\n",
        "\n",
        "print(c.sound())  # Output: Moo\n",
        "print(s.sound())  # Output: Baa"
      ],
      "metadata": {
        "id": "IE9EfNn0YqpH",
        "colab": {
          "base_uri": "https://localhost:8080/"
        },
        "outputId": "b1612179-2520-4278-a69c-99d8ca43a8ae"
      },
      "execution_count": 16,
      "outputs": [
        {
          "output_type": "stream",
          "name": "stdout",
          "text": [
            "Moo\n",
            "Baa\n"
          ]
        }
      ]
    },
    {
      "cell_type": "code",
      "source": [
        "#Q17) Create a class Book with attributes title, author, and year_published. Add a method get_book_info() that returns a formatted string with the book's details.\n",
        "\n",
        "class Book:\n",
        "    def __init__(self, title, author, year_published):\n",
        "        self.title = title\n",
        "        self.author = author\n",
        "        self.year_published = year_published\n",
        "\n",
        "    def get_book_info(self):\n",
        "        return f\"'{self.title}' by {self.author}, published in {self.year_published}\"\n",
        "\n",
        "# Creating an object\n",
        "b = Book(\"The Alchemist\", \"Paulo Coelho\", 1988)\n",
        "print(b.get_book_info())  # Output: 'The Alchemist' by Paulo Coelho, published in 1988"
      ],
      "metadata": {
        "id": "QhQ1p_hrYvzC",
        "colab": {
          "base_uri": "https://localhost:8080/"
        },
        "outputId": "68dd2b1a-ac51-4ae7-d8ee-4fe9f8000aa5"
      },
      "execution_count": 17,
      "outputs": [
        {
          "output_type": "stream",
          "name": "stdout",
          "text": [
            "'The Alchemist' by Paulo Coelho, published in 1988\n"
          ]
        }
      ]
    },
    {
      "cell_type": "code",
      "source": [
        "#Q18) Create a class House with attributes address and price. Create a derived class Mansion that adds an attribute number_of_rooms.\n",
        "class House:\n",
        "    def __init__(self, address, price):\n",
        "        self.address = address\n",
        "        self.price = price\n",
        "\n",
        "class Mansion(House):\n",
        "    def __init__(self, address, price, number_of_rooms):\n",
        "        super().__init__(address, price)\n",
        "        self.number_of_rooms = number_of_rooms\n",
        "\n",
        "m = Mansion(\"123 Street\", 500000, 10)\n",
        "print(m.address, m.price, m.number_of_rooms)  # Output: 123 Street 500000 10"
      ],
      "metadata": {
        "id": "vya0tmzcY1oy",
        "colab": {
          "base_uri": "https://localhost:8080/"
        },
        "outputId": "9510c27e-ad8e-4c20-bdac-85d2dc9ec1e1"
      },
      "execution_count": 20,
      "outputs": [
        {
          "output_type": "stream",
          "name": "stdout",
          "text": [
            "123 Street 500000 10\n"
          ]
        }
      ]
    }
  ]
}